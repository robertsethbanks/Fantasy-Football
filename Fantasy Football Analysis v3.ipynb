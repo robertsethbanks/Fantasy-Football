{
 "cells": [
  {
   "cell_type": "markdown",
   "id": "b11a5c58",
   "metadata": {},
   "source": [
    "# To Do:\n",
    "#### When I make predictions for 2023 fantasy points, take the average fantasy points per game from 2022 for each player instead of total bc players played different numbers of game"
   ]
  },
  {
   "cell_type": "markdown",
   "id": "ded9abf9",
   "metadata": {},
   "source": [
    "# Resources\n",
    "#### Importing Excel file into Python using Pandas:\n",
    "https://datatofish.com/read_excel/\n",
    "\n",
    "#### NFL raw game data:\n",
    "https://www.advancedsportsanalytics.com/nfl-raw-data\n",
    "\n",
    "#### Len method to return length of array:\n",
    "https://www.w3schools.com/python/gloss_python_array_length.asp\n",
    "\n",
    "#### Return values while loop:\n",
    "https://stackoverflow.com/questions/41633129/python-how-to-return-value-in-while-loop\n",
    "\n",
    "#### String split method:\n",
    "https://www.w3schools.com/python/ref_string_split.asp\n",
    "\n",
    "#### Removing spaces between strings:\n",
    "https://www.geeksforgeeks.org/python-remove-spaces-from-a-string/\n",
    "\n",
    "#### Splitting and joining strings: \n",
    "https://www.freecodecamp.org/news/python-string-split-and-join-methods-explained-with-examples/\n",
    "\n",
    "#### Storing while loop results in array:\n",
    "https://stackoverflow.com/questions/48224711/python-the-return-of-the-function-is-just-returning-only-the-first-line-of-the"
   ]
  },
  {
   "cell_type": "markdown",
   "id": "72a90571",
   "metadata": {},
   "source": [
    "# Import packages"
   ]
  },
  {
   "cell_type": "code",
   "execution_count": 1,
   "id": "ba648b57",
   "metadata": {},
   "outputs": [],
   "source": [
    "import pandas as pd\n",
    "import numpy as np\n",
    "import matplotlib.pyplot as plt"
   ]
  },
  {
   "cell_type": "markdown",
   "id": "df37d39b",
   "metadata": {},
   "source": [
    "# Read in position preferences by team Excel file"
   ]
  },
  {
   "cell_type": "code",
   "execution_count": 2,
   "id": "7d815984",
   "metadata": {},
   "outputs": [],
   "source": [
    "# If changes are made in the Excel file, save the file and rerun this cell\n",
    "positions = pd.read_excel(r'/Users/robertbanks/Desktop/Projects/FantasyFootball/FantasyFootball_PositionPreferences.xlsx')"
   ]
  },
  {
   "cell_type": "markdown",
   "id": "5dc20468",
   "metadata": {},
   "source": [
    "# Read in NFL game stats data from 2022 season"
   ]
  },
  {
   "cell_type": "code",
   "execution_count": 3,
   "id": "9e5a4304",
   "metadata": {},
   "outputs": [],
   "source": [
    "gamestats = pd.read_csv(r'/Users/robertbanks/Desktop/Projects/FantasyFootball/NFLOffense_GameData.csv')"
   ]
  },
  {
   "cell_type": "markdown",
   "id": "1ad96477",
   "metadata": {},
   "source": [
    "# Store total 2022 player stats and formatted name variables in an array"
   ]
  },
  {
   "cell_type": "code",
   "execution_count": 4,
   "id": "7324eb77",
   "metadata": {},
   "outputs": [],
   "source": [
    "# Storing player names from the gamestats dataframe in a array\n",
    "names = gamestats['player'].to_numpy()\n",
    "# Removing duplicates of player names\n",
    "# Each player shows up as one instance for every game they play \n",
    "# Wee only want each name to show up once for totals\n",
    "unique_names = np.unique(names)\n",
    "\n",
    "# Writing a function to calculate season totals for each unique player name\n",
    "# For relevant passing, rushing, and receiving stats\n",
    "def stats(index):\n",
    "    pass_yards = gamestats.loc[gamestats['player'] == unique_names[index]].pass_yds.sum()\n",
    "    pass_touchdowns = gamestats.loc[gamestats['player'] == unique_names[index]].pass_td.sum()\n",
    "    pass_intercept = gamestats.loc[gamestats['player'] == unique_names[index]].pass_int.sum()\n",
    "    rush_yards = gamestats.loc[gamestats['player'] == unique_names[index]].rush_yds.sum()\n",
    "    rush_touchdowns = gamestats.loc[gamestats['player'] == unique_names[index]].rush_td.sum()\n",
    "    lost_fumbles = gamestats.loc[gamestats['player'] == unique_names[index]].fumbles_lost.sum()\n",
    "    rec = gamestats.loc[gamestats['player'] == unique_names[index]].rec.sum()\n",
    "    rec_yards = gamestats.loc[gamestats['player'] == unique_names[index]].rec_yds.sum()\n",
    "    rec_touchdowns = gamestats.loc[gamestats['player'] == unique_names[index]].rec_td.sum()\n",
    "    \n",
    "    return pass_yards, pass_touchdowns, pass_intercept, rush_yards, rush_touchdowns, lost_fumbles, rec, rec_yards, rec_touchdowns       \n",
    "\n",
    "\n",
    "# Function to:\n",
    "# (1) remove spaces and punctuation from each name in unique names for standardization\n",
    "# (2) combine the results of the stats function with the new player name variables into an array\n",
    "def playerdata():  \n",
    "    i=0\n",
    "    firstlast = []\n",
    "    while i < len(unique_names):\n",
    "        # Format names to remove spaces and punctuation\n",
    "        # Split names into distinct first and last names\n",
    "        name = unique_names[i].split()\n",
    "        # Rejoin mames together with no space\n",
    "        names_formatted = \"\".join(name)\n",
    "        # Remove periods and dashes in player names\n",
    "        names_formatted = names_formatted.replace('.','')\n",
    "        names_formatted = names_formatted.replace('-','')\n",
    "        # Store names_formatted in the currently empty firstlast array\n",
    "        firstlast.append(names_formatted)\n",
    "        # Add data from the stats function to each name in firstlast\n",
    "        firstlast.append(stats(i))\n",
    "        i+=1\n",
    "    return firstlast      \n",
    "    "
   ]
  },
  {
   "cell_type": "code",
   "execution_count": 12,
   "id": "2912d077",
   "metadata": {},
   "outputs": [
    {
     "data": {
      "text/plain": [
       "(0, 0, 0, 0, 0, 2, 88, 1496, 11)"
      ]
     },
     "execution_count": 12,
     "metadata": {},
     "output_type": "execute_result"
    }
   ],
   "source": [
    "# Next step - make sure player name and each stat can all be indexed separately\n",
    "\n",
    "playerdata()[0]\n",
    "playerdata()[1]"
   ]
  },
  {
   "cell_type": "code",
   "execution_count": null,
   "id": "00f321c6",
   "metadata": {},
   "outputs": [],
   "source": []
  }
 ],
 "metadata": {
  "kernelspec": {
   "display_name": "Python 3 (ipykernel)",
   "language": "python",
   "name": "python3"
  },
  "language_info": {
   "codemirror_mode": {
    "name": "ipython",
    "version": 3
   },
   "file_extension": ".py",
   "mimetype": "text/x-python",
   "name": "python",
   "nbconvert_exporter": "python",
   "pygments_lexer": "ipython3",
   "version": "3.9.15"
  }
 },
 "nbformat": 4,
 "nbformat_minor": 5
}
