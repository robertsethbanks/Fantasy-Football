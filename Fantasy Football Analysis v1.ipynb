{
 "cells": [
  {
   "cell_type": "markdown",
   "id": "b11a5c58",
   "metadata": {},
   "source": [
    "# To Do:\n",
    "#### When I make predictions for 2023 fantasy points, take the average fantasy points per game from 2022 for each player instead of total bc players played different numbers of game"
   ]
  },
  {
   "cell_type": "markdown",
   "id": "ded9abf9",
   "metadata": {},
   "source": [
    "# Resources\n",
    "#### Importing Excel file into Python using Pandas\n",
    "https://datatofish.com/read_excel/\n",
    "\n",
    "#### NFL raw game data\n",
    "https://www.advancedsportsanalytics.com/nfl-raw-data"
   ]
  },
  {
   "cell_type": "markdown",
   "id": "72a90571",
   "metadata": {},
   "source": [
    "# Import packages"
   ]
  },
  {
   "cell_type": "code",
   "execution_count": 108,
   "id": "ba648b57",
   "metadata": {},
   "outputs": [],
   "source": [
    "import pandas as pd\n",
    "import numpy as np\n",
    "import matplotlib.pyplot as plt"
   ]
  },
  {
   "cell_type": "markdown",
   "id": "df37d39b",
   "metadata": {},
   "source": [
    "# Read in position preferences by team Excel file"
   ]
  },
  {
   "cell_type": "code",
   "execution_count": 109,
   "id": "7d815984",
   "metadata": {},
   "outputs": [],
   "source": [
    "# If changes are made in the Excel file, save the file and rerun this cell\n",
    "positions = pd.read_excel(r'/Users/robertbanks/Desktop/Projects/FantasyFootball/FantasyFootball_PositionPreferences.xlsx')"
   ]
  },
  {
   "cell_type": "code",
   "execution_count": 113,
   "id": "7d750487",
   "metadata": {
    "scrolled": true
   },
   "outputs": [
    {
     "name": "stdout",
     "output_type": "stream",
     "text": [
      "  TeamName Round1 Round2 Round3\n",
      "0    Team1     RB     RB     WR\n",
      "1    Team2     RB     WR     QB\n",
      "2    Team3     WR     WR     RB\n",
      "3    Team4     RB     RB     WR\n",
      "4    Team5     RB     WR     RB\n",
      "5    Team6     RB     WR     WR\n",
      "6    Team7     WR     WR     RB\n",
      "7    Team8     TE     RB     WR\n",
      "8    Team9     WR     TE     RB\n",
      "9   Team10     RB     QB     RB\n"
     ]
    }
   ],
   "source": [
    "print(positions)"
   ]
  },
  {
   "cell_type": "markdown",
   "id": "5dc20468",
   "metadata": {},
   "source": [
    "# Read in NFL game stats data from 2022 season"
   ]
  },
  {
   "cell_type": "code",
   "execution_count": 136,
   "id": "9e5a4304",
   "metadata": {},
   "outputs": [],
   "source": [
    "gamestats = pd.read_csv(r'/Users/robertbanks/Desktop/Projects/FantasyFootball/NFLOffense_GameData.csv')"
   ]
  },
  {
   "cell_type": "code",
   "execution_count": 115,
   "id": "74d490a0",
   "metadata": {},
   "outputs": [
    {
     "data": {
      "text/plain": [
       "3701"
      ]
     },
     "execution_count": 115,
     "metadata": {},
     "output_type": "execute_result"
    }
   ],
   "source": [
    "gamestats[gamestats['player']=='Jalen Hurts'].pass_yds.sum()"
   ]
  },
  {
   "cell_type": "markdown",
   "id": "1ad96477",
   "metadata": {},
   "source": [
    "# Return season totals for pass yards, rush yards, receiving yards, receptions, and games played for each player in gamestats"
   ]
  },
  {
   "cell_type": "code",
   "execution_count": 138,
   "id": "b4870954",
   "metadata": {},
   "outputs": [],
   "source": [
    "# Create array of player names in the gamestats dataset\n",
    "names = gamestats['player'].to_numpy()\n",
    "\n",
    "# Remove duplicates of names (each player shows up for each game they play)\n",
    "unique_names = np.unique(names)\n",
    "\n",
    "# Test to make sure each name only showing up once\n",
    "#print(np.shape(names))\n",
    "#print(np.shape(unique_names))\n",
    "#unique_names\n",
    "\n",
    "for x in unique_names:\n",
    "    passyards = gamestats[gamestats[x]]\n",
    "    "
   ]
  },
  {
   "cell_type": "code",
   "execution_count": 77,
   "id": "aaa42d60",
   "metadata": {},
   "outputs": [
    {
     "ename": "AttributeError",
     "evalue": "'str' object has no attribute 'pass_yds'",
     "output_type": "error",
     "traceback": [
      "\u001b[0;31m---------------------------------------------------------------------------\u001b[0m",
      "\u001b[0;31mAttributeError\u001b[0m                            Traceback (most recent call last)",
      "\u001b[0;32m/var/folders/dm/qxwf1tfd28b0nnb28x7qfh_w0000gn/T/ipykernel_37335/566821417.py\u001b[0m in \u001b[0;36m<module>\u001b[0;34m\u001b[0m\n\u001b[1;32m      5\u001b[0m \u001b[0;34m\u001b[0m\u001b[0m\n\u001b[1;32m      6\u001b[0m \u001b[0;32mfor\u001b[0m \u001b[0mx\u001b[0m \u001b[0;32min\u001b[0m \u001b[0mname\u001b[0m\u001b[0;34m:\u001b[0m\u001b[0;34m\u001b[0m\u001b[0;34m\u001b[0m\u001b[0m\n\u001b[0;32m----> 7\u001b[0;31m     \u001b[0mpassyards\u001b[0m \u001b[0;34m=\u001b[0m \u001b[0mgamestats\u001b[0m\u001b[0;34m[\u001b[0m\u001b[0mgamestats\u001b[0m\u001b[0;34m[\u001b[0m\u001b[0;34m'player'\u001b[0m\u001b[0;34m]\u001b[0m\u001b[0;34m==\u001b[0m\u001b[0mx\u001b[0m\u001b[0;34m.\u001b[0m\u001b[0mpass_yds\u001b[0m\u001b[0;34m.\u001b[0m\u001b[0msum\u001b[0m\u001b[0;34m(\u001b[0m\u001b[0;34m)\u001b[0m\u001b[0;34m]\u001b[0m\u001b[0;34m\u001b[0m\u001b[0;34m\u001b[0m\u001b[0m\n\u001b[0m",
      "\u001b[0;31mAttributeError\u001b[0m: 'str' object has no attribute 'pass_yds'"
     ]
    }
   ],
   "source": [
    "# For name in the gamestats dataset, return the sum of pass yards, sum of rush yards, sum of receiving yards, and sum of receptions\n",
    "\n",
    "for x in name:\n",
    "    passyards = gamestats[gamestats['player']==x.pass_yds.sum()]"
   ]
  },
  {
   "cell_type": "code",
   "execution_count": 54,
   "id": "644e49b5",
   "metadata": {},
   "outputs": [
    {
     "data": {
      "text/plain": [
       "array(['Josh Allen', 'Devin Singletary', 'Zack Moss', ...,\n",
       "       'Curtis Samuel', 'Reggie Bonnafon', 'Armani Rogers'], dtype=object)"
      ]
     },
     "execution_count": 54,
     "metadata": {},
     "output_type": "execute_result"
    }
   ],
   "source": []
  },
  {
   "cell_type": "code",
   "execution_count": null,
   "id": "5eb61135",
   "metadata": {},
   "outputs": [],
   "source": []
  }
 ],
 "metadata": {
  "kernelspec": {
   "display_name": "Python 3 (ipykernel)",
   "language": "python",
   "name": "python3"
  },
  "language_info": {
   "codemirror_mode": {
    "name": "ipython",
    "version": 3
   },
   "file_extension": ".py",
   "mimetype": "text/x-python",
   "name": "python",
   "nbconvert_exporter": "python",
   "pygments_lexer": "ipython3",
   "version": "3.9.15"
  }
 },
 "nbformat": 4,
 "nbformat_minor": 5
}
